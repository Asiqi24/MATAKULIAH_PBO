{
 "cells": [
  {
   "cell_type": "markdown",
   "metadata": {},
   "source": [
    "# => CLASS VS OBJECT<="
   ]
  },
  {
   "cell_type": "markdown",
   "metadata": {},
   "source": [
    "PENGENALAN CLASS\n",
    "<p>Contoh ilustrasi yang menggambarkan antara Class dan Object</p>"
   ]
  },
  {
   "cell_type": "markdown",
   "metadata": {},
   "source": [
    "<img src=\"gambar/1.png\">"
   ]
  },
  {
   "cell_type": "markdown",
   "metadata": {},
   "source": [
    "<img src=\"gambar/2.png\">"
   ]
  },
  {
   "cell_type": "markdown",
   "metadata": {},
   "source": [
    "<p>keyword class diikuti dengan nama class yang kita inginkan.\n",
    "Lebih baik digunakan kata yang diawali huruf kapital. constructor menggunakan method bawaan Python yang bernama init</p>\n",
    "<p>Metode init() adalah metode konstruktor, yaitu metode khusus yang digunakan Python untuk menginisialisasi pembuatan objek dari kelas tersebut. \n",
    "Setiap method harus memiliki parameter self \n",
    "yang artinya method tersebut dimiliki dan terdaftar ke class tersebut untuk membedakan dari method atau fungsi yang ada di luar class.</p>"
   ]
  },
  {
   "cell_type": "code",
   "execution_count": 31,
   "metadata": {
    "scrolled": true
   },
   "outputs": [
    {
     "name": "stdout",
     "output_type": "stream",
     "text": [
      "4\n",
      "luas=  16\n"
     ]
    }
   ],
   "source": [
    "class kubus:\n",
    "    def __init__(self,s):\n",
    "        self.sisi = s\n",
    "    def tampilkansisi(self):\n",
    "        print(self.sisi)\n",
    "    def luas(self):\n",
    "        print(\"luas= \" , self.sisi ** 2)\n",
    "kubus1= kubus(4)\n",
    "kubus1.tampilkansisi()\n",
    "kubus1.luas()"
   ]
  },
  {
   "cell_type": "markdown",
   "metadata": {},
   "source": [
    "<br>Contoh Diatas Cara Menampilkan Method Luas Menggunakan operator(.)"
   ]
  },
  {
   "cell_type": "markdown",
   "metadata": {},
   "source": [
    "Contoh Program Class dan Object Untuk Menghitung Umur dan Gaji"
   ]
  },
  {
   "cell_type": "code",
   "execution_count": 32,
   "metadata": {},
   "outputs": [
    {
     "name": "stdout",
     "output_type": "stream",
     "text": [
      "Asiqi , Admin dan 150000 1999\n",
      "20\n"
     ]
    }
   ],
   "source": [
    "from datetime import datetime\n",
    "sekarang= datetime.now()\n",
    "tahun = sekarang.year\n",
    "class pegawai:\n",
    "    def __init__(self,n,j,g,t):\n",
    "        self.nama = n\n",
    "        self.jabatan = j\n",
    "        self.gaji = g\n",
    "        self.tahunlahir = t\n",
    "\n",
    "    def tampilkan(self):\n",
    "        print(self.nama,\",\",self.jabatan,\"dan\",self.gaji*30,self.tahunlahir)\n",
    "    def tampilkanumur(self):\n",
    "        print(tahun-self.tahunlahir)\n",
    "p1= pegawai(\"Asiqi\",\"Admin\",5000,1999)\n",
    "p1.tampilkan()\n",
    "p1.tampilkanumur()"
   ]
  },
  {
   "cell_type": "markdown",
   "metadata": {},
   "source": [
    "# =>INHERENTANCE (PEWARISAN)<="
   ]
  },
  {
   "cell_type": "markdown",
   "metadata": {},
   "source": [
    "PENGERTIAN \n",
    "<p>Kelas dapat mewarisi fungsionalitas kelas lain.\n",
    "Jika suatu objek dibuat menggunakan kelas yang mewarisi dari superclass,\n",
    "objek tersebut akan berisi metode<b> kelas dan superclass.</b></p>\n",
    "<p><b>Inherentance</b> adalah ketika kelas menggunakan kode yang dibangun dalam kelas lain.\n",
    "Jika kita berpikir tentang pewarisan dalam hal biologi,\n",
    "kita dapat memikirkan seorang anak yang mewarisi sifat-sifat tertentu dari orang tua mereka. \n",
    "Artinya, seorang anak dapat mewarisi tinggi atau warna mata orang tua. \n",
    "Anak-anak juga dapat berbagi nama belakang yang sama dengan orang tua mereka.</p>\n",
    "<p>Kelas yang disebut <b>kelas anak</b> atau <b>subclass</b> mewarisi metode dan variabel dari <b>kelas induk</b> atau <b>kelas dasar</b>.</p>\n",
    "<br>Contoh Inherentance</br>"
   ]
  },
  {
   "cell_type": "markdown",
   "metadata": {},
   "source": [
    "<img src=\"gambar/3.png\">\n",
    "<br>Tipe-tipe Inherentance<br>\n",
    "<img src=\"gambar/4.png\">"
   ]
  },
  {
   "cell_type": "markdown",
   "metadata": {},
   "source": [
    "<br>Pertama Kita Buat Kelas User</br>"
   ]
  },
  {
   "cell_type": "code",
   "execution_count": 1,
   "metadata": {},
   "outputs": [
    {
     "name": "stdout",
     "output_type": "stream",
     "text": [
      "Name = brian\n"
     ]
    }
   ],
   "source": [
    "class User:\n",
    "    name = \"\"\n",
    "    def __init__(self, name):\n",
    "        self.name = name\n",
    "    def printName(self):\n",
    "        print (\"Name = \" + self.name)\n",
    "brian = User(\"brian\") \n",
    "brian.printName()"
   ]
  },
  {
   "cell_type": "markdown",
   "metadata": {},
   "source": [
    "<br>Dibawah Ini Class user berfungsi sebagai induk class dan Class programmer berfungsi sebagai anak class \n",
    "dan sebagai parameternya terdapat tanda () sesudah class tersebut.</br>"
   ]
  },
  {
   "cell_type": "code",
   "execution_count": 2,
   "metadata": {},
   "outputs": [
    {
     "name": "stdout",
     "output_type": "stream",
     "text": [
      "Name =  brian\n",
      "Name =  Diana\n",
      "Progamming Python\n"
     ]
    }
   ],
   "source": [
    "class user:\n",
    "    def __init__(self,name):\n",
    "        self.name =name\n",
    "    def printName(self): \n",
    "        print (\"Name = \",self.name)   \n",
    "class programmer(user):\n",
    "    def __init__(self,name):\n",
    "        self.name =name\n",
    "    def doPython(self):\n",
    "        print (\"Progamming Python\")\n",
    "brian = user(\"brian\")\n",
    "brian.printName()\n",
    "#brian.doPython()\n",
    "diana = programmer(\"Diana\")\n",
    "diana.printName()\n",
    "diana.doPython()"
   ]
  },
  {
   "cell_type": "markdown",
   "metadata": {},
   "source": [
    "<br>Contoh 2 </br>\n",
    "<br>Program Dibawah ini Menunjukkan bahwa class Fish menjadi parameter dari anak-anak class dibawahnya</b>"
   ]
  },
  {
   "cell_type": "code",
   "execution_count": 3,
   "metadata": {},
   "outputs": [
    {
     "name": "stdout",
     "output_type": "stream",
     "text": [
      "Terry Fish\n",
      "bone\n",
      "False\n",
      "the fish is swimming\n",
      "the fish can swimming backwards\n",
      "casey Fish\n",
      "the fish is swimming\n",
      "the clownfish is coexiting with sea anemone\n"
     ]
    }
   ],
   "source": [
    "class Fish:\n",
    "    def __init__(self,first_name,last_name=\"Fish\",skeleton=\"bone\",eyelids=False):\n",
    "        self.first_name = first_name\n",
    "        self.last_name =last_name\n",
    "        self.skeleton = skeleton\n",
    "        self.eyelids = eyelids\n",
    "    def swim(self):\n",
    "        print(\"the fish is swimming\")\n",
    "    def swim_backward(self):\n",
    "        print(\"the fish can swimming backwards\")\n",
    "class Trout(Fish):\n",
    "        pass\n",
    "class clownfish(Fish):\n",
    "    def live_with_anemone(self):\n",
    "        print(\"the clownfish is coexiting with sea anemone\")\n",
    "#Overide yaitu isi dari method dan properti diganti nilainya\n",
    "class Shark(Fish):\n",
    "    def __init__(self,first_name,last_name=\"Shark\",skeleton=\"cartilage\",eyelids=True):\n",
    "        self.first_name = first_name\n",
    "        self.last_name = last_name\n",
    "        self.skeleton = skeleton\n",
    "        self.eyelids = eyelids\n",
    "    def swim_backwards(self):\n",
    "        print(\"The shark can't swim backwards, but can sink backwards\")\n",
    "#super yaitu menambahkan atribut yang unik pada class anak dan method lainya sama seperti induk\n",
    "class Ikan(Fish):\n",
    "    def __init__(self,water,first_name,last_name,skeleton,eyelids):\n",
    "        self.water = water\n",
    "        fish.__init__(self)\n",
    "        #atau\n",
    "        super().__init__(self)\n",
    "        \n",
    "terry = Trout(\"Terry\")\n",
    "print(terry.first_name+\" \"+terry.last_name)\n",
    "print(terry.skeleton)\n",
    "print(terry.eyelids)\n",
    "terry.swim()\n",
    "terry.swim_backward()\n",
    "\n",
    "casey = clownfish(\"casey\")\n",
    "print(casey.first_name + \" \" + casey.last_name)\n",
    "casey.swim()\n",
    "casey.live_with_anemone()"
   ]
  },
  {
   "cell_type": "markdown",
   "metadata": {},
   "source": [
    "<br><b>LATIHAN</b></br>"
   ]
  },
  {
   "cell_type": "code",
   "execution_count": 4,
   "metadata": {},
   "outputs": [
    {
     "name": "stdout",
     "output_type": "stream",
     "text": [
      "Coral lives in a community\n",
      "The anemone is protecting the clownfish\n"
     ]
    }
   ],
   "source": [
    "#multiple inherentance\n",
    "class Coral:\n",
    "    def community(self):\n",
    "        print(\"Coral lives in a community\")\n",
    "        \n",
    "class Anemone:\n",
    "    def protect_clownfish(self):\n",
    "        print(\"The anemone is protecting the clownfish\")\n",
    "        \n",
    "class CoralReef(Coral,Anemone):\n",
    "    pass\n",
    "\n",
    "great_barrier = CoralReef()\n",
    "great_barrier.community()\n",
    "great_barrier.protect_clownfish()"
   ]
  },
  {
   "cell_type": "code",
   "execution_count": 5,
   "metadata": {},
   "outputs": [
    {
     "name": "stdout",
     "output_type": "stream",
     "text": [
      "Nama orang :  Muhammad Nurul Asiqi\n",
      "NPM :  180441100129 \n",
      "Nama mahasiswa :  Nurul Asiqi\n",
      "NIP :  3517100998 \n",
      "Nama Pegawai :  M.Nurul Asiqi\n",
      "NIDN :  1209837 \n",
      "NIP :  3517100998 \n",
      "Nama Dosen :  Mr.Asiqi\n"
     ]
    }
   ],
   "source": [
    "class orang :\n",
    "    def __init__(self,n):\n",
    "        self.nama = n\n",
    "    def cetaknama(self):\n",
    "        print(\"Nama orang : \",self.nama)\n",
    "class mahasiswa(orang):\n",
    "    def __init__(self,npm,n):\n",
    "        super().__init__(n)\n",
    "        self.npm = npm\n",
    "    def cetakmahasiswa(self):\n",
    "        print(\"NPM : \",self.npm,\"\\nNama mahasiswa : \",self.nama)\n",
    "class pegawai(orang):\n",
    "    def __init__(self,nip,n):\n",
    "        super().__init__(n)\n",
    "        self.nip = nip\n",
    "    def cetakpegawai(self):\n",
    "        print(\"NIP : \",self.nip,\"\\nNama Pegawai : \",self.nama)\n",
    "class dosen(pegawai):\n",
    "    def __init__(self,nidn,nip,n):\n",
    "        super().__init__(nip,n)\n",
    "        self.nidn = nidn\n",
    "    def cetakdosen(self):\n",
    "        print(\"NIDN : \",self.nidn,\"\\nNIP : \",self.nip,\"\\nNama Dosen : \",self.nama)\n",
    "class karyawan(pegawai):\n",
    "    pass\n",
    "\n",
    "org = orang(\"Muhammad Nurul Asiqi\")\n",
    "org.cetaknama()\n",
    "mhs = mahasiswa(180441100129,\"Nurul Asiqi\")\n",
    "mhs.cetakmahasiswa()\n",
    "pgw = pegawai(3517100998,\"M.Nurul Asiqi\")\n",
    "pgw.cetakpegawai()\n",
    "dsn = dosen(1209837,3517100998,\"Mr.Asiqi\")\n",
    "dsn.cetakdosen()"
   ]
  },
  {
   "cell_type": "code",
   "execution_count": 6,
   "metadata": {},
   "outputs": [
    {
     "name": "stdout",
     "output_type": "stream",
     "text": [
      "nama kuda :  poni \n",
      "jenis rambut hitam\n",
      "Nama keledai bun \n",
      "beratbadan 100\n",
      "Nama mule :  mul \n",
      "jenis rambut putih \n",
      "berat badan : 100\n"
     ]
    }
   ],
   "source": [
    "class kuda :\n",
    "    def __init__(self,n,jr):\n",
    "        self.nama = n\n",
    "        self.jenis_rambut = jr\n",
    "    def tampilkuda (self):\n",
    "        print(\"nama kuda : \",self.nama,\"\\njenis rambut\",self.jenis_rambut)\n",
    "        \n",
    "class keledai :\n",
    "    def __init__(self,n,bb):\n",
    "        self.nama = n\n",
    "        self.beratbadan = bb\n",
    "    def tampilkeledai(self):\n",
    "        print(\"Nama keledai\",self.nama,\"\\nberatbadan\",self.beratbadan)\n",
    "class mule(kuda,keledai):\n",
    "    def __init__(self,n,jr,bb):\n",
    "        kuda.__init__(self,n,jr)\n",
    "        keledai.__init__(self,n,bb)\n",
    "    def tampilmule(self):\n",
    "        print(\"Nama mule : \",self.nama,\"\\njenis rambut\",self.jenis_rambut,\"\\nberat badan :\",self.beratbadan)\n",
    "kd= kuda(\"poni\",\"hitam\")\n",
    "kd.tampilkuda()\n",
    "kld=keledai(\"bun\",100)\n",
    "kld.tampilkeledai()\n",
    "ml= mule(\"mul\",\"putih\",100)\n",
    "ml.tampilmule()"
   ]
  },
  {
   "cell_type": "code",
   "execution_count": 7,
   "metadata": {},
   "outputs": [
    {
     "name": "stdout",
     "output_type": "stream",
     "text": [
      "Nama :  asiqi \n",
      "kode karyawan 111 \n",
      "kode cabang 333\n"
     ]
    }
   ],
   "source": [
    "class orang :\n",
    "    def __init__(self,nama):\n",
    "        self.nama =nama\n",
    "class karyawan(orang):\n",
    "    def __init__(self,kd,nama1):\n",
    "        self.kd = kd\n",
    "        self.nama= nama1\n",
    "class karyawancabang(karyawan):\n",
    "    def __init__(self,kd,nama1,kdpg,kc):\n",
    "        super().__init__(kd,nama1)\n",
    "        self.kdpg = kdpg\n",
    "        self.cb = kc\n",
    "    def tampilobjek(self):\n",
    "        print(\"Nama : \",self.nama,\"\\nkode karyawan\",self.kd,\"\\nkode cabang\",self.cb)\n",
    "kar=karyawancabang(111,\"asiqi\",222,333)\n",
    "kar.tampilobjek()\n",
    "    "
   ]
  },
  {
   "cell_type": "code",
   "execution_count": 9,
   "metadata": {},
   "outputs": [
    {
     "name": "stdout",
     "output_type": "stream",
     "text": [
      "Nama: Nurul Asiqi \n",
      "NIP: 180441100129\n",
      "Nama Mata kuliah: PBO \n",
      "Kode Mata kuliah: SI123\n",
      "Nilai: A\n"
     ]
    }
   ],
   "source": [
    "class Mahasiswa:\n",
    "    def __init__(self,nama,npm):\n",
    "        self.nama = nama\n",
    "        self.nip = npm\n",
    "    def namanip(self):\n",
    "        print(\"Nama:\",self.nama,\"\\nNIP:\",self.nip)\n",
    "class Matkul:\n",
    "    def cetakmatkul(self,kode,mk):        \n",
    "        self.kodemk = kode\n",
    "        self.matkul = mk\n",
    "        print(\"Nama Mata kuliah:\",self.matkul,\"\\nKode Mata kuliah:\",self.kodemk)\n",
    "class AmbilMatkul(Mahasiswa,Matkul):\n",
    "    def __init__(self,nama,npm,kode,mk,nilai):\n",
    "        self.nama = nama\n",
    "        self.nim = npm\n",
    "        self.kdmk = kode\n",
    "        self.mk = mk\n",
    "        self.nilai = nilai\n",
    "    def cetak(self):\n",
    "        Mahasiswa.__init__(self,self.nama,self.nim)\n",
    "        Mahasiswa.namanip(self)\n",
    "        super().cetakmatkul(self.kdmk,self.mk)\n",
    "        print(\"Nilai:\",self.nilai)\n",
    "        \n",
    "saya = AmbilMatkul(\"Nurul Asiqi\",\"180441100129\",\"SI123\",\"PBO\",\"A\")\n",
    "saya.cetak()"
   ]
  },
  {
   "cell_type": "markdown",
   "metadata": {},
   "source": [
    "# =>PHOLYMORFISME"
   ]
  },
  {
   "cell_type": "markdown",
   "metadata": {},
   "source": [
    "<br>ILUSTRASI POLYMORPHISME</br>\n",
    "<img src= \"gambar/5.png\">"
   ]
  },
  {
   "cell_type": "markdown",
   "metadata": {},
   "source": [
    "<br>Terkadang suatu objek datang dalam banyak jenis atau bentuk.\n",
    "Jika kita memiliki tombol, ada banyak output draw yang berbeda \n",
    "(tombol bulat, tombol periksa, tombol kotak, tombol dengan gambar) tetapi mereka berbagi logika yang sama: onClick (). \n",
    "Kami mengaksesnya menggunakan metode yang sama.\n",
    "Gagasan ini disebut <b>Polimorfisme<b>.<br>"
   ]
  },
  {
   "cell_type": "code",
   "execution_count": 4,
   "metadata": {},
   "outputs": [
    {
     "name": "stdout",
     "output_type": "stream",
     "text": [
      "the shark's skeleton is made of cartiage\n",
      "the clownfish's skeleton is made of bone\n"
     ]
    }
   ],
   "source": [
    "class shark():\n",
    "    def swim(self):\n",
    "        print(\"the shark is swimming.\")\n",
    "    def swim_backwards(self):\n",
    "        print(\"the shark cannot swim backwards, but can sink backwards.\")\n",
    "    def skeleton(self):\n",
    "        print(\"the shark's skeleton is made of cartiage\")\n",
    "class clownfish():\n",
    "    def swim(self):\n",
    "        print(\"the clownfish is swimming\")\n",
    "    def swim_backwards(self):\n",
    "        print(\"the clownfish can swim backwards\")\n",
    "    def skeleton(self):\n",
    "        print(\"the clownfish's skeleton is made of bone\")\n",
    "sammy = shark()\n",
    "sammy.skeleton()\n",
    "casey = clownfish()\n",
    "casey.skeleton()\n"
   ]
  },
  {
   "cell_type": "markdown",
   "metadata": {},
   "source": [
    "<h3>POLYMORPHISME WITH A FUNCTION</H3>\n",
    "<br>membuat fungsi yang dapat mengambil objek apa pun, memungkinkan untuk polimorfisme.</br>"
   ]
  },
  {
   "cell_type": "code",
   "execution_count": 5,
   "metadata": {},
   "outputs": [
    {
     "name": "stdout",
     "output_type": "stream",
     "text": [
      "the shark is swimming.\n",
      "the clownfish is swimming\n"
     ]
    }
   ],
   "source": [
    "def di_pasifik(fish):\n",
    "    fish.swim()\n",
    "    \n",
    "di_pasifik(sammy)\n",
    "di_pasifik(casey)"
   ]
  },
  {
   "cell_type": "markdown",
   "metadata": {},
   "source": [
    "<p>Objek casey disebut metode swim () \n",
    "didefinisikan dalam kelas Clownfish, dan objek sammy disebut metode swim () didefinisikan dalam kelas Shark.</p>\n",
    "<p>Kami membuat dua kelas: Bear dan Dog, \n",
    "keduanya dapat membuat suara yang berbeda. \n",
    "Kami kemudian membuat dua contoh dan memanggil tindakan mereka menggunakan metode yang sama</p> \n"
   ]
  },
  {
   "cell_type": "code",
   "execution_count": 16,
   "metadata": {},
   "outputs": [
    {
     "name": "stdout",
     "output_type": "stream",
     "text": [
      "Groarr\n",
      "woof woof!\n"
     ]
    }
   ],
   "source": [
    "class bear():\n",
    "    def sound(self):\n",
    "        print(\"Groarr\")\n",
    "class dog():\n",
    "    def sound(self):\n",
    "        print(\"woof woof!\")\n",
    "def makesound(animal):\n",
    "    animal.sound()\n",
    "bearobj = bear()\n",
    "dogobj = dog()\n",
    "\n",
    "makesound(bearobj)\n",
    "makesound(dogobj)"
   ]
  },
  {
   "cell_type": "markdown",
   "metadata": {},
   "source": [
    "<h3>POLYMORPHISME WITH METHOD</h3>\n",
    "<br>Method ini sebenarnya ada di setiap kelas<br>"
   ]
  },
  {
   "cell_type": "code",
   "execution_count": 7,
   "metadata": {},
   "outputs": [
    {
     "name": "stdout",
     "output_type": "stream",
     "text": [
      "the shark cannot swim backwards, but can sink backwards.\n",
      "the clownfish can swim backwards\n"
     ]
    }
   ],
   "source": [
    "for ikan in (sammy,casey):\n",
    "    ikan.swim_backwards()"
   ]
  },
  {
   "attachments": {},
   "cell_type": "markdown",
   "metadata": {},
   "source": [
    "<br>\n",
    "dua objek, sammy dari kelas Shark, dan casey dari kelas Clownfish.\n",
    "Perulangan for kami mengulangi objek-objek ini, memanggil swim_backwards ().</br>\n",
    "<br>metode yang terkait dengan kelas Shark terlebih dahulu, kemudian kelas Clownfish.</br>\n",
    "<br><b>\n",
    "metode-metode ini dengan cara tanpa mengetahui atau tidak peduli apa tipe kelas dari masing-masing objek ini. Artinya, menggunakan metode ini secara polimorfik</b></br>\n",
    "<p>\n",
    "Jika Anda membuat editor, Anda mungkin tidak tahu sebelumnya jenis dokumen apa yang akan dibuka pengguna (format pdf atau format kata?).</p>\n",
    "<img src=\"gambar/6.png\">"
   ]
  },
  {
   "cell_type": "code",
   "execution_count": 18,
   "metadata": {},
   "outputs": [
    {
     "name": "stdout",
     "output_type": "stream",
     "text": [
      "document1:show pdf contents!\n",
      "document2:show pdf contents!\n",
      "document3: show word contents!\n"
     ]
    }
   ],
   "source": [
    "class document:\n",
    "    def __init__(self,name):\n",
    "        self.name = name\n",
    "    def show(self):\n",
    "        raise NotImplementedEror(\"subclass mush implement abstract method\")\n",
    "        \n",
    "class pdf(document):\n",
    "    def show(self):\n",
    "        return 'show pdf contents!'\n",
    "    \n",
    "class word(document):\n",
    "    def show(self):\n",
    "        return ' show word contents!'\n",
    "\n",
    "documents = [pdf('document1'),pdf('document2'),word('document3')]\n",
    "for document in documents:\n",
    "    print(document.name + ':' + document.show())"
   ]
  },
  {
   "cell_type": "markdown",
   "metadata": {},
   "source": [
    "<br>\n",
    "<b>kelas abstrak</b> yang disebut dokumen. Kelas ini tidak memiliki implementasi tetapi mendefinisikan struktur (dalam bentuk fungsi) yang harus dimiliki semua bentuk.\n",
    "Jika kita mendefinisikan fungsi show () maka baik PdfDocument dan WordDocument harus memiliki fungsi show ().</br>\n",
    "<img src=\"gambar/7.png\">"
   ]
  },
  {
   "cell_type": "code",
   "execution_count": 19,
   "metadata": {},
   "outputs": [
    {
     "name": "stdout",
     "output_type": "stream",
     "text": [
      "bananatruck:truck driving slowly because heavily loaded\n",
      "orangetruck:truck driving slowly because heavily loaded\n",
      "23:sportcar driving\n"
     ]
    }
   ],
   "source": [
    "class car:\n",
    "    def __init__(self,name):\n",
    "        self.name = name\n",
    "    def drive(self):\n",
    "        raise NotImplementedError(\"Subclass must implemented abstract method\")\n",
    "    def stop(self):\n",
    "        raise NotImplementedError(\"Subclass must Implemented abstract method\")\n",
    "    \n",
    "class sportcar(car):\n",
    "    def drive(self):\n",
    "        return 'sportcar driving'\n",
    "    def stop(self):\n",
    "        return 'sportcar braking'\n",
    "class truck(car):\n",
    "    def drive(self):\n",
    "        return 'truck driving slowly because heavily loaded'\n",
    "    def stop(self):\n",
    "        return 'truck breaking !'\n",
    "\n",
    "cars = [truck('bananatruck'),truck('orangetruck'),sportcar('23')]\n",
    "\n",
    "for car in cars:\n",
    "    print(car.name + ':' + car.drive())"
   ]
  },
  {
   "cell_type": "code",
   "execution_count": null,
   "metadata": {},
   "outputs": [],
   "source": []
  }
 ],
 "metadata": {
  "kernelspec": {
   "display_name": "Python 3",
   "language": "python",
   "name": "python3"
  },
  "language_info": {
   "codemirror_mode": {
    "name": "ipython",
    "version": 3
   },
   "file_extension": ".py",
   "mimetype": "text/x-python",
   "name": "python",
   "nbconvert_exporter": "python",
   "pygments_lexer": "ipython3",
   "version": "3.7.1"
  }
 },
 "nbformat": 4,
 "nbformat_minor": 2
}
